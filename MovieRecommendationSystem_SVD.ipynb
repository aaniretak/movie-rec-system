{
  "nbformat": 4,
  "nbformat_minor": 0,
  "metadata": {
    "colab": {
      "provenance": []
    },
    "kernelspec": {
      "name": "python3",
      "display_name": "Python 3"
    },
    "language_info": {
      "name": "python"
    }
  },
  "cells": [
    {
      "cell_type": "code",
      "source": [
        "#!pip install surprise\n",
        "#!pip install pandas scikit-surprise\n",
        "\n",
        "import pandas as pd\n",
        "from surprise import SVD, Dataset, Reader, accuracy\n",
        "from surprise.model_selection import cross_validate, train_test_split, GridSearchCV\n",
        "import math"
      ],
      "metadata": {
        "id": "Ty8MyZxKKfIl"
      },
      "execution_count": 3,
      "outputs": []
    },
    {
      "cell_type": "code",
      "source": [
        "# Load the data\n",
        "data = Dataset.load_builtin('ml-100k')\n",
        "df = pd.DataFrame(data.raw_ratings, columns=[\"user\", \"item\", \"rating\", \"timestamp\"])\n",
        "\n",
        "print(df.head())"
      ],
      "metadata": {
        "id": "QNnS2A8HKcgn",
        "colab": {
          "base_uri": "https://localhost:8080/"
        },
        "outputId": "d3c09b4d-5f9e-4299-e453-c57d4fce79ff"
      },
      "execution_count": 5,
      "outputs": [
        {
          "output_type": "stream",
          "name": "stdout",
          "text": [
            "  user item  rating  timestamp\n",
            "0  196  242     3.0  881250949\n",
            "1  186  302     3.0  891717742\n",
            "2   22  377     1.0  878887116\n",
            "3  244   51     2.0  880606923\n",
            "4  166  346     1.0  886397596\n"
          ]
        }
      ]
    },
    {
      "cell_type": "markdown",
      "source": [
        "We see the following columns:\n",
        "\n",
        "* **user**: User ID of the user that provided the rating\n",
        "\n",
        "* **item**: Movie ID of the rated movie\n",
        "\n",
        "* **rating:** The rating given to the movie by the user (1 - 5)\n",
        "\n",
        "* **timestamp:** The time at which the rating was provided\n",
        "\n"
      ],
      "metadata": {
        "id": "eU2Tw5HgNLVR"
      }
    },
    {
      "cell_type": "code",
      "source": [
        "print(df.isnull().sum())"
      ],
      "metadata": {
        "id": "RZ_yvaO3LdgO",
        "colab": {
          "base_uri": "https://localhost:8080/"
        },
        "outputId": "23320cbf-81b6-4132-d576-852591d20923"
      },
      "execution_count": 6,
      "outputs": [
        {
          "output_type": "stream",
          "name": "stdout",
          "text": [
            "user         0\n",
            "item         0\n",
            "rating       0\n",
            "timestamp    0\n",
            "dtype: int64\n"
          ]
        }
      ]
    },
    {
      "cell_type": "markdown",
      "source": [
        "We see that there are no missing values."
      ],
      "metadata": {
        "id": "dgtjvngqMb0i"
      }
    },
    {
      "cell_type": "code",
      "source": [
        "# Hyperparameter grid for SVD\n",
        "param_grid = {\n",
        "    'n_factors': [50, 100, 150],\n",
        "    'n_epochs': [20, 30],\n",
        "    'lr_all': [0.005, 0.010],\n",
        "    'reg_all': [0.02, 0.1]\n",
        "}"
      ],
      "metadata": {
        "id": "Yt6AeZAzOmrY"
      },
      "execution_count": 7,
      "outputs": []
    },
    {
      "cell_type": "code",
      "source": [
        "# 3-fold cross validation grid search to find the best hyperparameters for our model\n",
        "gs = GridSearchCV(SVD, param_grid, measures=['RMSE', 'MAE'], cv=3)\n",
        "gs.fit(data)"
      ],
      "metadata": {
        "id": "Ys3MuGk5Qph4"
      },
      "execution_count": 8,
      "outputs": []
    },
    {
      "cell_type": "code",
      "source": [
        "# Best score and parameters\n",
        "print(f\"Best RMSE: {gs.best_score['rmse']}\")\n",
        "print(f\"Best parameters: {gs.best_params['rmse']}\")"
      ],
      "metadata": {
        "id": "J85rTs0wQpYT",
        "colab": {
          "base_uri": "https://localhost:8080/"
        },
        "outputId": "26a38b8c-d51e-49f8-e130-34b066e82231"
      },
      "execution_count": 9,
      "outputs": [
        {
          "output_type": "stream",
          "name": "stdout",
          "text": [
            "Best RMSE: 0.9210106114794548\n",
            "Best parameters: {'n_factors': 100, 'n_epochs': 30, 'lr_all': 0.01, 'reg_all': 0.1}\n"
          ]
        }
      ]
    },
    {
      "cell_type": "code",
      "source": [
        "# Select and use the best model based on optimal RMSE\n",
        "model = gs.best_estimator['rmse']"
      ],
      "metadata": {
        "id": "JVCuCpr0RRMe"
      },
      "execution_count": 10,
      "outputs": []
    },
    {
      "cell_type": "code",
      "source": [
        "# Train and test split (75%-25%)\n",
        "trainset, testset = train_test_split(data, test_size=0.25)\n",
        "\n",
        "# Fit on the trainset\n",
        "model.fit(trainset)\n",
        "\n",
        "# Predict on the testset\n",
        "pred = model.test(testset)\n",
        "\n",
        "# RMSE of the predictions\n",
        "accuracy.rmse(pred)"
      ],
      "metadata": {
        "id": "N_rMgmt3SyGb",
        "colab": {
          "base_uri": "https://localhost:8080/"
        },
        "outputId": "e2712e9e-4ea3-4133-98b0-00dec9b4e3eb"
      },
      "execution_count": 12,
      "outputs": [
        {
          "output_type": "stream",
          "name": "stdout",
          "text": [
            "RMSE: 0.9125\n"
          ]
        },
        {
          "output_type": "execute_result",
          "data": {
            "text/plain": [
              "0.9125467331939697"
            ]
          },
          "metadata": {},
          "execution_count": 12
        }
      ]
    },
    {
      "cell_type": "code",
      "source": [
        "# Predict rating for a user and item\n",
        "user_id = '165'\n",
        "item_id = '122'\n",
        "predicted_rating = model.predict(user_id, item_id)\n",
        "print(f\"Predicted rating for user {user_id} and item {item_id}: {predicted_rating.est}\")"
      ],
      "metadata": {
        "id": "Qn7yRR-aRXL-",
        "colab": {
          "base_uri": "https://localhost:8080/"
        },
        "outputId": "447ea8ca-0bbe-46ea-8039-1c08e6ad43f4"
      },
      "execution_count": 13,
      "outputs": [
        {
          "output_type": "stream",
          "name": "stdout",
          "text": [
            "Predicted rating for user 165 and item 122: 2.5610470274707287\n"
          ]
        }
      ]
    },
    {
      "cell_type": "code",
      "source": [
        "# Movie recommendation function based on predicted ratings\n",
        "\n",
        "def recommend_movies(model, trainset, user_id, num_recommendations = 5):\n",
        "\n",
        "    # Get the raw user id to inner id\n",
        "    inner_user_id = trainset.to_inner_uid(user_id)\n",
        "\n",
        "    # Get the list of items that user has rated\n",
        "    rated_items = {iid for (iid, _) in trainset.ur[inner_user_id]}\n",
        "\n",
        "    # Get a list of all movie IDs in the dataset that user has not rated\n",
        "    all_movie_ids = trainset.all_items()\n",
        "    unrated_movie_ids = [trainset.to_raw_iid(iid) for iid in all_movie_ids if iid not in rated_items]\n",
        "\n",
        "    # Predict ratings for all movies that the user has not seen yet\n",
        "    predictions = [model.predict(user_id, movie_id) for movie_id in unrated_movie_ids]\n",
        "\n",
        "    # Sort predictions by estimated rating in descending order\n",
        "    predictions.sort(key=lambda x: x.est, reverse=True)\n",
        "\n",
        "    # Get the top N recommended movies\n",
        "    top_recommendations = predictions[:num_recommendations]\n",
        "\n",
        "    # Print the results in a list format, one under the other\n",
        "    print(f\"Recommended Movies for user {user_id}:\")\n",
        "    for pred in top_recommendations:\n",
        "        print(f\"{pred.iid} (Estimated Rating: {pred.est:.2f})\")"
      ],
      "metadata": {
        "id": "AY5svsgjOTkm"
      },
      "execution_count": 34,
      "outputs": []
    },
    {
      "cell_type": "code",
      "source": [
        "# Recommend top 5 movies for a user of your choice\n",
        "user_id = input()\n",
        "recommend_movies(model, trainset, user_id)"
      ],
      "metadata": {
        "colab": {
          "base_uri": "https://localhost:8080/"
        },
        "id": "kynqS_fvPBpL",
        "outputId": "3e9673fe-5543-4dfe-c413-cde5dbf00b7e"
      },
      "execution_count": 35,
      "outputs": [
        {
          "output_type": "stream",
          "name": "stdout",
          "text": [
            "134\n",
            "Recommended Movies for user 134:\n",
            "1449 (Estimated Rating: 4.78)\n",
            "318 (Estimated Rating: 4.64)\n",
            "64 (Estimated Rating: 4.61)\n",
            "483 (Estimated Rating: 4.49)\n",
            "169 (Estimated Rating: 4.47)\n"
          ]
        }
      ]
    }
  ]
}